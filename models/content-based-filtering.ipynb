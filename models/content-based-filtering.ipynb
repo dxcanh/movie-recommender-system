{
 "cells": [
  {
   "cell_type": "code",
   "execution_count": 1,
   "metadata": {},
   "outputs": [],
   "source": [
    "import os\n",
    "import sys\n",
    "\n",
    "os.environ['PYSPARK_PYTHON'] = sys.executable\n",
    "os.environ['PYSPARK_DRIVER_PYTHON'] = sys.executable"
   ]
  },
  {
   "cell_type": "code",
   "execution_count": 2,
   "metadata": {},
   "outputs": [],
   "source": [
    "from pyspark.sql import SparkSession\n",
    "from pyspark.ml.feature import CountVectorizer, IDF\n",
    "from pyspark.ml.linalg import Vectors\n",
    "from pyspark.sql.functions import col, udf, explode, desc\n",
    "\n",
    "# create or get SparkSession\n",
    "spark = SparkSession.builder.appName(\"ContentBasedFiltering\").getOrCreate()\n",
    "\n",
    "# load the dataset\n",
    "df = spark.read.csv(\"final_dataset.csv\", \n",
    "                    header=True, \n",
    "                    inferSchema=True)"
   ]
  },
  {
   "cell_type": "code",
   "execution_count": 3,
   "metadata": {},
   "outputs": [
    {
     "name": "stdout",
     "output_type": "stream",
     "text": [
      "+-------+--------------------+------+--------------------+------+--------+\n",
      "|User_Id|          Movie_Name|Rating|               Genre|  Year|Movie_Id|\n",
      "+-------+--------------------+------+--------------------+------+--------+\n",
      "|      1|             Jumanji|   3.5|Adventure|Childre...|1995.0|       1|\n",
      "|      1|City of Lost Chil...|   3.5|Adventure|Drama|F...|1995.0|       2|\n",
      "|      1|Twelve Monkeys (a...|   3.5|Mystery|Sci-Fi|Th...|1995.0|       3|\n",
      "|      1|Seven (a.k.a. Se7en)|   3.5|    Mystery|Thriller|1995.0|       4|\n",
      "|      1| Usual Suspects, The|   3.5|Crime|Mystery|Thr...|1995.0|       5|\n",
      "|      1|Rumble in the Bro...|   3.5|Action|Adventure|...|1995.0|       6|\n",
      "|      1|             Rob Roy|   4.0|Action|Drama|Roma...|1995.0|       7|\n",
      "|      1|              Clerks|   4.0|              Comedy|1994.0|       8|\n",
      "|      1|Interview with th...|   4.0|        Drama|Horror|1994.0|       9|\n",
      "|      1|Star Wars: Episod...|   4.0|Action|Adventure|...|1977.0|      10|\n",
      "|      1|Léon: The Profess...|   4.0|Action|Crime|Dram...|1994.0|      11|\n",
      "|      1|        Pulp Fiction|   4.0|Comedy|Crime|Dram...|1994.0|      12|\n",
      "|      1|Shawshank Redempt...|   4.0|         Crime|Drama|1994.0|      13|\n",
      "|      1|What's Eating Gil...|   3.5|               Drama|1993.0|      14|\n",
      "|      1|           Mask, The|   3.5|Action|Comedy|Cri...|1994.0|      15|\n",
      "|      1|        Blade Runner|   4.0|Action|Sci-Fi|Thr...|1982.0|      16|\n",
      "|      1|Terminator 2: Jud...|   3.5|       Action|Sci-Fi|1991.0|      17|\n",
      "|      1|Silence of the La...|   3.5|Crime|Horror|Thri...|1991.0|      18|\n",
      "|      1|         Dragonheart|   3.0|Action|Adventure|...|1996.0|      19|\n",
      "|      1|   Wizard of Oz, The|   3.5|Adventure|Childre...|1939.0|      20|\n",
      "+-------+--------------------+------+--------------------+------+--------+\n",
      "only showing top 20 rows\n",
      "\n"
     ]
    }
   ],
   "source": [
    "df.show()"
   ]
  },
  {
   "cell_type": "code",
   "execution_count": null,
   "metadata": {},
   "outputs": [],
   "source": [
    "from pyspark.sql.functions import split, explode\n",
    "\n",
    "df_exploded = df.select(\n",
    "    col(\"User_Id\"), \n",
    "    col(\"Movie_Name\"), \n",
    "    explode(split(col(\"Genre\"), r\"\\|\")).alias(\"Genre\")\n",
    ")"
   ]
  },
  {
   "cell_type": "code",
   "execution_count": null,
   "metadata": {},
   "outputs": [
    {
     "name": "stdout",
     "output_type": "stream",
     "text": [
      "+-------+--------------------+---------+\n",
      "|User_Id|          Movie_Name|    Genre|\n",
      "+-------+--------------------+---------+\n",
      "|      1|             Jumanji|Adventure|\n",
      "|      1|             Jumanji| Children|\n",
      "|      1|             Jumanji|  Fantasy|\n",
      "|      1|City of Lost Chil...|Adventure|\n",
      "|      1|City of Lost Chil...|    Drama|\n",
      "|      1|City of Lost Chil...|  Fantasy|\n",
      "|      1|City of Lost Chil...|  Mystery|\n",
      "|      1|City of Lost Chil...|   Sci-Fi|\n",
      "|      1|Twelve Monkeys (a...|  Mystery|\n",
      "|      1|Twelve Monkeys (a...|   Sci-Fi|\n",
      "|      1|Twelve Monkeys (a...| Thriller|\n",
      "|      1|Seven (a.k.a. Se7en)|  Mystery|\n",
      "|      1|Seven (a.k.a. Se7en)| Thriller|\n",
      "|      1| Usual Suspects, The|    Crime|\n",
      "|      1| Usual Suspects, The|  Mystery|\n",
      "|      1| Usual Suspects, The| Thriller|\n",
      "|      1|Rumble in the Bro...|   Action|\n",
      "|      1|Rumble in the Bro...|Adventure|\n",
      "|      1|Rumble in the Bro...|   Comedy|\n",
      "|      1|Rumble in the Bro...|    Crime|\n",
      "+-------+--------------------+---------+\n",
      "only showing top 20 rows\n",
      "\n"
     ]
    }
   ],
   "source": [
    "# explode genre into separate rows\n",
    "df_exploded.show()"
   ]
  },
  {
   "cell_type": "code",
   "execution_count": null,
   "metadata": {},
   "outputs": [],
   "source": [
    "from pyspark.sql.functions import collect_list\n",
    "\n",
    "# group by Movie_Name and collect Genres:\n",
    "df_grouped = df_exploded.groupBy(\"Movie_Name\").agg(collect_list(\"Genre\").alias(\"Genres\"))\n"
   ]
  },
  {
   "cell_type": "code",
   "execution_count": 7,
   "metadata": {},
   "outputs": [
    {
     "name": "stdout",
     "output_type": "stream",
     "text": [
      "+--------------------+--------------------+\n",
      "|          Movie_Name|              Genres|\n",
      "+--------------------+--------------------+\n",
      "|                 '71|[Action, Drama, T...|\n",
      "|             'R Xmas|[Crime, Drama, Cr...|\n",
      "|  'Til There Was You|[Drama, Drama, Ro...|\n",
      "|...All the Marble...|[Action, Comedy, ...|\n",
      "|10 Questions for ...|[Documentary, Doc...|\n",
      "|      10 to Midnight|[Action, Action, ...|\n",
      "|101 Dalmatians (O...|[Adventure, Adven...|\n",
      "|   12 Days of Terror|[Drama, Horror, T...|\n",
      "|     12 O'Clock Boys|       [Documentary]|\n",
      "|12 Storeys (Shier...|     [Comedy, Drama]|\n",
      "|               12:01|[Comedy, Romance,...|\n",
      "|    13th Letter, The|[Film-Noir, Film-...|\n",
      "|14 Blades (Jin yi...|[Action, Drama, A...|\n",
      "|                  15|     [Action, Drama]|\n",
      "|          16 to Life|[Comedy, Drama, C...|\n",
      "|           18 Again!|[Comedy, Comedy, ...|\n",
      "|            20 Dates|[Comedy, Comedy, ...|\n",
      "|20,000 Years in S...|[Crime, Drama, Cr...|\n",
      "|                2012|[Action, Action, ...|\n",
      "|2019: After the F...|[Action, Horror, ...|\n",
      "+--------------------+--------------------+\n",
      "only showing top 20 rows\n",
      "\n"
     ]
    }
   ],
   "source": [
    "df_grouped.show()"
   ]
  },
  {
   "cell_type": "code",
   "execution_count": null,
   "metadata": {},
   "outputs": [],
   "source": [
    "# apply CountVectorizer:\n",
    "cv = CountVectorizer(inputCol=\"Genres\", outputCol=\"rawFeatures\") \n",
    "model = cv.fit(df_grouped)\n",
    "featurizedData = model.transform(df_grouped)"
   ]
  },
  {
   "cell_type": "code",
   "execution_count": 9,
   "metadata": {},
   "outputs": [
    {
     "name": "stdout",
     "output_type": "stream",
     "text": [
      "+--------------------+--------------------+--------------------+\n",
      "|          Movie_Name|              Genres|         rawFeatures|\n",
      "+--------------------+--------------------+--------------------+\n",
      "|                 '71|[Action, Drama, T...|(20,[0,2,3,13],[7...|\n",
      "|             'R Xmas|[Crime, Drama, Cr...|(20,[0,6],[6.0,6.0])|\n",
      "|  'Til There Was You|[Drama, Drama, Ro...|(20,[0,5],[90.0,9...|\n",
      "|...All the Marble...|[Action, Comedy, ...|(20,[0,1,2,5],[11...|\n",
      "|10 Questions for ...|[Documentary, Doc...|     (20,[17],[2.0])|\n",
      "|      10 to Midnight|[Action, Action, ...|(20,[2,3,4],[13.0...|\n",
      "|101 Dalmatians (O...|[Adventure, Adven...|(20,[4,9,12],[105...|\n",
      "|   12 Days of Terror|[Drama, Horror, T...|(20,[0,3,11],[2.0...|\n",
      "|     12 O'Clock Boys|       [Documentary]|     (20,[17],[1.0])|\n",
      "|12 Storeys (Shier...|     [Comedy, Drama]|(20,[0,1],[1.0,1.0])|\n",
      "|               12:01|[Comedy, Romance,...|(20,[1,3,5,7],[8....|\n",
      "|    13th Letter, The|[Film-Noir, Film-...|     (20,[18],[2.0])|\n",
      "|14 Blades (Jin yi...|[Action, Drama, A...|(20,[0,2],[8.0,8.0])|\n",
      "|                  15|     [Action, Drama]|(20,[0,2],[1.0,1.0])|\n",
      "|          16 to Life|[Comedy, Drama, C...|(20,[0,1],[2.0,2.0])|\n",
      "|           18 Again!|[Comedy, Comedy, ...|(20,[1,8],[35.0,3...|\n",
      "|            20 Dates|[Comedy, Comedy, ...|(20,[1,5],[114.0,...|\n",
      "|20,000 Years in S...|[Crime, Drama, Cr...|(20,[0,6],[2.0,2.0])|\n",
      "|                2012|[Action, Action, ...|(20,[0,2,3,7],[32...|\n",
      "|2019: After the F...|[Action, Horror, ...|(20,[2,7,11],[3.0...|\n",
      "+--------------------+--------------------+--------------------+\n",
      "only showing top 20 rows\n",
      "\n"
     ]
    }
   ],
   "source": [
    "featurizedData.show()"
   ]
  },
  {
   "cell_type": "code",
   "execution_count": 10,
   "metadata": {},
   "outputs": [],
   "source": [
    "IDF = IDF(inputCol=\"rawFeatures\", outputCol=\"features\")\n",
    "IDFModel = IDF.fit(featurizedData)\n",
    "rescaledData = IDFModel.transform(featurizedData)"
   ]
  },
  {
   "cell_type": "code",
   "execution_count": 11,
   "metadata": {},
   "outputs": [
    {
     "name": "stdout",
     "output_type": "stream",
     "text": [
      "+--------------------+--------------------+--------------------+--------------------+\n",
      "|          Movie_Name|              Genres|         rawFeatures|            features|\n",
      "+--------------------+--------------------+--------------------+--------------------+\n",
      "|                 '71|[Action, Drama, T...|(20,[0,2,3,13],[7...|(20,[0,2,3,13],[4...|\n",
      "|             'R Xmas|[Crime, Drama, Cr...|(20,[0,6],[6.0,6.0])|(20,[0,6],[4.0463...|\n",
      "|  'Til There Was You|[Drama, Drama, Ro...|(20,[0,5],[90.0,9...|(20,[0,5],[60.694...|\n",
      "|...All the Marble...|[Action, Comedy, ...|(20,[0,1,2,5],[11...|(20,[0,1,2,5],[7....|\n",
      "|10 Questions for ...|[Documentary, Doc...|     (20,[17],[2.0])|(20,[17],[5.30415...|\n",
      "|      10 to Midnight|[Action, Action, ...|(20,[2,3,4],[13.0...|(20,[2,3,4],[25.5...|\n",
      "|101 Dalmatians (O...|[Adventure, Adven...|(20,[4,9,12],[105...|(20,[4,9,12],[250...|\n",
      "|   12 Days of Terror|[Drama, Horror, T...|(20,[0,3,11],[2.0...|(20,[0,3,11],[1.3...|\n",
      "|     12 O'Clock Boys|       [Documentary]|     (20,[17],[1.0])|(20,[17],[2.65207...|\n",
      "|12 Storeys (Shier...|     [Comedy, Drama]|(20,[0,1],[1.0,1.0])|(20,[0,1],[0.6743...|\n",
      "|               12:01|[Comedy, Romance,...|(20,[1,3,5,7],[8....|(20,[1,3,5,7],[8....|\n",
      "|    13th Letter, The|[Film-Noir, Film-...|     (20,[18],[2.0])|(20,[18],[8.95259...|\n",
      "|14 Blades (Jin yi...|[Action, Drama, A...|(20,[0,2],[8.0,8.0])|(20,[0,2],[5.3950...|\n",
      "|                  15|     [Action, Drama]|(20,[0,2],[1.0,1.0])|(20,[0,2],[0.6743...|\n",
      "|          16 to Life|[Comedy, Drama, C...|(20,[0,1],[2.0,2.0])|(20,[0,1],[1.3487...|\n",
      "|           18 Again!|[Comedy, Comedy, ...|(20,[1,8],[35.0,3...|(20,[1,8],[38.027...|\n",
      "|            20 Dates|[Comedy, Comedy, ...|(20,[1,5],[114.0,...|(20,[1,5],[123.86...|\n",
      "|20,000 Years in S...|[Crime, Drama, Cr...|(20,[0,6],[2.0,2.0])|(20,[0,6],[1.3487...|\n",
      "|                2012|[Action, Action, ...|(20,[0,2,3,7],[32...|(20,[0,2,3,7],[22...|\n",
      "|2019: After the F...|[Action, Horror, ...|(20,[2,7,11],[3.0...|(20,[2,7,11],[5.8...|\n",
      "+--------------------+--------------------+--------------------+--------------------+\n",
      "only showing top 20 rows\n",
      "\n"
     ]
    }
   ],
   "source": [
    "rescaledData.show()"
   ]
  },
  {
   "cell_type": "code",
   "execution_count": 14,
   "metadata": {},
   "outputs": [
    {
     "name": "stdout",
     "output_type": "stream",
     "text": [
      "+--------------------+--------------------+--------------------+\n",
      "|         Movie first|        Movie second|          Similarity|\n",
      "+--------------------+--------------------+--------------------+\n",
      "|           Dark City|    Enter the Dragon|9.987915802896691E-4|\n",
      "|           Dark City|Run Lola Run (Lol...|9.987915802896691E-4|\n",
      "|   Great Escape, The|                   M|9.982918999835958E-5|\n",
      "|             Godsend|            Reckless|9.980122797856714E-4|\n",
      "|              Misery|            Reckless|9.980122797856714E-4|\n",
      "|Brotherhood of th...|               Mulan|9.979851710609634E-4|\n",
      "|2001: A Space Ody...|      My Blue Heaven|9.974782088646892E-4|\n",
      "|              Aliens|          Cinderella|9.966088346807617E-4|\n",
      "|  Control (Kontroll)|   Wizard of Oz, The|  9.9579301313787E-5|\n",
      "|Gentlemen of Fort...|   Wizard of Oz, The|9.957930131378698E-5|\n",
      "|             Gumshoe|   Wizard of Oz, The|9.957930131378698E-5|\n",
      "|         Murder Ahoy|   Wizard of Oz, The|9.957930131378698E-5|\n",
      "|      Late Show, The|   Wizard of Oz, The|9.957930131378698E-5|\n",
      "|               12:01|   Wizard of Oz, The|9.956701506146186E-5|\n",
      "|Memoirs of an Inv...|   Wizard of Oz, The|9.956701506146186E-5|\n",
      "|Night to Remember, A|               Shrek|9.954449006575328E-4|\n",
      "|               Gypsy|Pirates of the Ca...|9.951640882834138E-4|\n",
      "|E.T. the Extra-Te...|           Wild Bill|9.947367783175753E-4|\n",
      "|            Reckless|   Untouchables, The|9.942256653210726E-4|\n",
      "|           Ring, The|           True Grit| 9.93735116826406E-5|\n",
      "+--------------------+--------------------+--------------------+\n",
      "only showing top 20 rows\n",
      "\n"
     ]
    }
   ],
   "source": [
    "def cosine_similarity(v1, v2):\n",
    "    return float(v1.dot(v2) / (v1.norm(2) * v2.norm(2)))\n",
    "\n",
    "cosine_similarity_udf = udf(cosine_similarity)\n",
    "\n",
    "# calculate similarity between movies\n",
    "movie_pairs = rescaledData.alias(\"i\").join(\n",
    "    rescaledData.alias(\"j\"), col(\"i.Movie_Name\") < col(\"j.Movie_Name\")\n",
    ").select(\n",
    "    col(\"i.Movie_Name\").alias(\"Movie first\"),\n",
    "    col(\"j.Movie_Name\").alias(\"Movie second\"),\n",
    "    cosine_similarity_udf(col(\"i.features\"), col(\"j.features\")).alias(\"Similarity\")\n",
    ")\n",
    "\n",
    "# get recommendations based on user's watched movies\n",
    "user_id = 1  \n",
    "watched_movies = df.filter(col(\"User_Id\") == user_id).select(\"Movie_Name\").rdd.flatMap(lambda x: x).collect()\n",
    "\n",
    "recommendations = movie_pairs.filter(\n",
    "    (col(\"Movie first\").isin(watched_movies)) | (col(\"Movie second\").isin(watched_movies))\n",
    ").sort(desc(\"Similarity\"))\n",
    "\n",
    "recommendations.show()"
   ]
  }
 ],
 "metadata": {
  "kernelspec": {
   "display_name": "rcm",
   "language": "python",
   "name": "python3"
  },
  "language_info": {
   "codemirror_mode": {
    "name": "ipython",
    "version": 3
   },
   "file_extension": ".py",
   "mimetype": "text/x-python",
   "name": "python",
   "nbconvert_exporter": "python",
   "pygments_lexer": "ipython3",
   "version": "3.11.10"
  }
 },
 "nbformat": 4,
 "nbformat_minor": 2
}
