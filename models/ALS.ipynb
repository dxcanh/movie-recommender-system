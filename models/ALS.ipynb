{
 "cells": [
  {
   "cell_type": "markdown",
   "metadata": {},
   "source": [
    "## Set up environment"
   ]
  },
  {
   "cell_type": "code",
   "execution_count": 1,
   "metadata": {},
   "outputs": [],
   "source": [
    "import os\n",
    "os.environ['SPARK_HOME'] = \"C:\\Spark\\spark-3.5.3-bin-hadoop3\""
   ]
  },
  {
   "cell_type": "code",
   "execution_count": 2,
   "metadata": {},
   "outputs": [],
   "source": [
    "import os\n",
    "import sys\n",
    "\n",
    "os.environ['PYSPARK_PYTHON'] = sys.executable\n",
    "os.environ['PYSPARK_DRIVER_PYTHON'] = sys.executable"
   ]
  },
  {
   "cell_type": "code",
   "execution_count": 3,
   "metadata": {},
   "outputs": [],
   "source": [
    "from pyspark import SparkContext, SparkConf\n",
    "from pyspark.sql import SparkSession\n",
    "\n",
    "# set up Spark config\n",
    "conf = SparkConf() \\\n",
    "    .setAppName(\"ALS\") \\\n",
    "    .setMaster(\"spark://192.168.0.136:7077\") \\\n",
    "    .set(\"spark.driver.memory\", \"8g\") \\\n",
    "    .set(\"spark.executor.memory\", \"8g\")\n",
    "\n",
    "spark = SparkSession.builder.config(conf=conf).getOrCreate()\n",
    "\n",
    "df = spark.read.csv('dataset.csv', header=True, inferSchema=True)"
   ]
  },
  {
   "cell_type": "markdown",
   "metadata": {},
   "source": [
    "## Split data & training"
   ]
  },
  {
   "cell_type": "code",
   "execution_count": 4,
   "metadata": {},
   "outputs": [],
   "source": [
    "from pyspark.sql.functions import col\n",
    "\n",
    "df = df.withColumn(\"User_Id\", col(\"User_Id\").cast(\"integer\"))\n",
    "df = df.withColumn(\"Rating\", col(\"Rating\").cast(\"float\"))"
   ]
  },
  {
   "cell_type": "code",
   "execution_count": 5,
   "metadata": {},
   "outputs": [],
   "source": [
    "(training, test) = df.randomSplit([0.8, 0.2], seed=42)"
   ]
  },
  {
   "cell_type": "code",
   "execution_count": 6,
   "metadata": {},
   "outputs": [],
   "source": [
    "training = training.na.drop(subset=[\"Movie_Id\", \"User_Id\"])"
   ]
  },
  {
   "cell_type": "code",
   "execution_count": 7,
   "metadata": {},
   "outputs": [],
   "source": [
    "from pyspark.ml.recommendation import ALS\n",
    "from pyspark.ml.evaluation import RegressionEvaluator\n",
    "from pyspark.ml.tuning import CrossValidator, ParamGridBuilder\n",
    "\n",
    "als = ALS(\n",
    "    maxIter=10,\n",
    "    regParam=0.1,\n",
    "    userCol=\"User_Id\",\n",
    "    itemCol=\"Movie_Id\",\n",
    "    ratingCol=\"Rating\",\n",
    "    coldStartStrategy=\"drop\"\n",
    ")\n",
    "\n",
    "model = als.fit(training)"
   ]
  },
  {
   "cell_type": "markdown",
   "metadata": {},
   "source": [
    "## Evaluate model"
   ]
  },
  {
   "cell_type": "code",
   "execution_count": 8,
   "metadata": {},
   "outputs": [
    {
     "name": "stdout",
     "output_type": "stream",
     "text": [
      "Root-mean-square error = 0.8178553423768055\n"
     ]
    }
   ],
   "source": [
    "evaluator = RegressionEvaluator(\n",
    "    metricName=\"rmse\",\n",
    "    labelCol=\"Rating\",\n",
    "    predictionCol=\"prediction\"\n",
    ")\n",
    "\n",
    "predictions = model.transform(test)\n",
    "rmse = evaluator.evaluate(predictions)\n",
    "print(f\"Root-mean-square error = {rmse}\")\n"
   ]
  },
  {
   "cell_type": "code",
   "execution_count": 9,
   "metadata": {},
   "outputs": [
    {
     "name": "stdout",
     "output_type": "stream",
     "text": [
      "+--------------------+------+----------+\n",
      "|          Movie_Name|  Year|prediction|\n",
      "+--------------------+------+----------+\n",
      "|           Two Women|2000.0|   5.02423|\n",
      "|              Hamoun|1990.0|   5.02423|\n",
      "|            Bob Funk|2009.0| 5.1732206|\n",
      "|Peppermint Soda (...|1977.0|   5.02423|\n",
      "|Class Trip, The (...|1998.0|   5.02423|\n",
      "|Doggiewoggiez! Po...|2012.0| 5.1070547|\n",
      "|Notebook, The (A ...|2013.0|   5.02423|\n",
      "|   Myra Breckinridge|1970.0| 5.3298855|\n",
      "|          Bad Ronald|1974.0|  5.478671|\n",
      "|In the Year of th...|1968.0|  5.284635|\n",
      "|Black Girl (La no...|1966.0|  5.000994|\n",
      "|Old Lady and the ...|1997.0|  5.458916|\n",
      "|Last Circus, The ...|2010.0|   5.00471|\n",
      "|   Toys in the Attic|1963.0|  5.174917|\n",
      "|Autobiography of ...|1974.0|  5.000994|\n",
      "+--------------------+------+----------+\n",
      "\n"
     ]
    }
   ],
   "source": [
    "from pyspark.sql.functions import col, lit\n",
    "\n",
    "# test with user 1 \n",
    "user_id = 1\n",
    "\n",
    "user_movies = (\n",
    "    training.select('Movie_Id').distinct()\n",
    "    .withColumn('User_Id', lit(user_id))\n",
    ")\n",
    "\n",
    "predictions = model.transform(user_movies)\n",
    "\n",
    "rated_movies = training.filter(col('User_Id') == user_id).select('Movie_Id')\n",
    "predictions = predictions.join(rated_movies, 'Movie_Id', 'left_anti')\n",
    "\n",
    "top_recommendations = predictions.orderBy(col('prediction').desc()).limit(15)\n",
    "\n",
    "top_10 = top_recommendations.join(training.select('Movie_Id', 'Movie_Name', 'Year').distinct(), on='Movie_Id')\n",
    "\n",
    "top_10.select('Movie_Name', 'Year', 'prediction').show()"
   ]
  },
  {
   "cell_type": "code",
   "execution_count": 10,
   "metadata": {},
   "outputs": [
    {
     "name": "stdout",
     "output_type": "stream",
     "text": [
      "+--------------------+------+----------+\n",
      "|          Movie_Name|  Year|prediction|\n",
      "+--------------------+------+----------+\n",
      "|Year of the Hare,...|1977.0| 5.1986485|\n",
      "|           Two Women|2000.0|  5.249591|\n",
      "|              Hamoun|1990.0|  5.249591|\n",
      "|            Bob Funk|2009.0|   5.47594|\n",
      "|   Absolute Giganten|1999.0| 5.2050104|\n",
      "|Peppermint Soda (...|1977.0|  5.249591|\n",
      "|Class Trip, The (...|1998.0|  5.249591|\n",
      "|Doggiewoggiez! Po...|2012.0| 5.2244368|\n",
      "|Notebook, The (A ...|2013.0|  5.249591|\n",
      "|   Myra Breckinridge|1970.0| 5.8697023|\n",
      "|          Bad Ronald|1974.0|  5.752883|\n",
      "|In the Year of th...|1968.0| 5.3278675|\n",
      "|Black Girl (La no...|1966.0|  5.188285|\n",
      "|Who Are you Polly...|1966.0|  5.217513|\n",
      "|Autobiography of ...|1974.0|  5.188285|\n",
      "+--------------------+------+----------+\n",
      "\n"
     ]
    }
   ],
   "source": [
    "# test with user 99 \n",
    "user_id = 99\n",
    "\n",
    "user_movies = (\n",
    "    training.select('Movie_Id').distinct()\n",
    "    .withColumn('User_Id', lit(user_id))\n",
    ")\n",
    "\n",
    "predictions = model.transform(user_movies)\n",
    "\n",
    "rated_movies = training.filter(col('User_Id') == user_id).select('Movie_Id')\n",
    "predictions = predictions.join(rated_movies, 'Movie_Id', 'left_anti')\n",
    "\n",
    "top_recommendations = predictions.orderBy(col('prediction').desc()).limit(15)\n",
    "\n",
    "top_10 = top_recommendations.join(training.select('Movie_Id', 'Movie_Name', 'Year').distinct(), on='Movie_Id')\n",
    "\n",
    "top_10.select('Movie_Name', 'Year', 'prediction').show()"
   ]
  },
  {
   "cell_type": "code",
   "execution_count": 11,
   "metadata": {},
   "outputs": [
    {
     "name": "stdout",
     "output_type": "stream",
     "text": [
      "+-------+--------+----------+\n",
      "|User_Id|Movie_Id|prediction|\n",
      "+-------+--------+----------+\n",
      "|      1|      10|  4.148014|\n",
      "|      1|      20| 3.7615376|\n",
      "|      2|      10| 4.9369745|\n",
      "+-------+--------+----------+\n",
      "\n"
     ]
    }
   ],
   "source": [
    "from pyspark.ml.recommendation import ALSModel\n",
    "\n",
    "# Load the model from the specified directory\n",
    "loaded_model = ALSModel.load(\"../experiments/als_model\")\n",
    "\n",
    "# Example DataFrame for inference\n",
    "new_data = spark.createDataFrame([\n",
    "    (1, 10),  # (User_Id, Movie_ID)\n",
    "    (1, 20),\n",
    "    (2, 10)\n",
    "], [\"User_Id\", \"Movie_Id\"])\n",
    "\n",
    "# Make predictions using the loaded model\n",
    "predictions = loaded_model.transform(new_data)\n",
    "predictions.show()"
   ]
  },
  {
   "cell_type": "code",
   "execution_count": 12,
   "metadata": {},
   "outputs": [],
   "source": [
    "all_movies = df.select(\"Movie_Id\", \"Movie_Name\", \"Year\").distinct()\n"
   ]
  },
  {
   "cell_type": "code",
   "execution_count": 13,
   "metadata": {},
   "outputs": [
    {
     "name": "stdout",
     "output_type": "stream",
     "text": [
      "+-------+--------------------+------+--------------------+------+--------+\n",
      "|User_Id|          Movie_Name|Rating|               Genre|  Year|Movie_Id|\n",
      "+-------+--------------------+------+--------------------+------+--------+\n",
      "|      1|             Jumanji|   3.5|Adventure|Childre...|1995.0|       1|\n",
      "|      1|City of Lost Chil...|   3.5|Adventure|Drama|F...|1995.0|       2|\n",
      "|      1|Twelve Monkeys (a...|   3.5|Mystery|Sci-Fi|Th...|1995.0|       3|\n",
      "|      1|Seven (a.k.a. Se7en)|   3.5|    Mystery|Thriller|1995.0|       4|\n",
      "|      1| Usual Suspects, The|   3.5|Crime|Mystery|Thr...|1995.0|       5|\n",
      "|      1|Rumble in the Bro...|   3.5|Action|Adventure|...|1995.0|       6|\n",
      "|      1|             Rob Roy|   4.0|Action|Drama|Roma...|1995.0|       7|\n",
      "|      1|              Clerks|   4.0|              Comedy|1994.0|       8|\n",
      "|      1|Interview with th...|   4.0|        Drama|Horror|1994.0|       9|\n",
      "|      1|Star Wars: Episod...|   4.0|Action|Adventure|...|1977.0|      10|\n",
      "|      1|Léon: The Profess...|   4.0|Action|Crime|Dram...|1994.0|      11|\n",
      "|      1|        Pulp Fiction|   4.0|Comedy|Crime|Dram...|1994.0|      12|\n",
      "|      1|Shawshank Redempt...|   4.0|         Crime|Drama|1994.0|      13|\n",
      "|      1|What's Eating Gil...|   3.5|               Drama|1993.0|      14|\n",
      "|      1|           Mask, The|   3.5|Action|Comedy|Cri...|1994.0|      15|\n",
      "|      1|        Blade Runner|   4.0|Action|Sci-Fi|Thr...|1982.0|      16|\n",
      "|      1|Terminator 2: Jud...|   3.5|       Action|Sci-Fi|1991.0|      17|\n",
      "|      1|Silence of the La...|   3.5|Crime|Horror|Thri...|1991.0|      18|\n",
      "|      1|         Dragonheart|   3.0|Action|Adventure|...|1996.0|      19|\n",
      "|      1|   Wizard of Oz, The|   3.5|Adventure|Childre...|1939.0|      20|\n",
      "+-------+--------------------+------+--------------------+------+--------+\n",
      "only showing top 20 rows\n",
      "\n"
     ]
    }
   ],
   "source": [
    "df.show()"
   ]
  },
  {
   "cell_type": "code",
   "execution_count": 14,
   "metadata": {},
   "outputs": [
    {
     "name": "stdout",
     "output_type": "stream",
     "text": [
      "+--------+--------------------+------+\n",
      "|Movie_Id|          Movie_Name|  Year|\n",
      "+--------+--------------------+------+\n",
      "|      60|                Jaws|1975.0|\n",
      "|     480|   Conspiracy Theory|1997.0|\n",
      "|     581|  Autumn in New York|2000.0|\n",
      "|     741|    Inspector Gadget|1999.0|\n",
      "|    1209|     Lethal Weapon 3|1992.0|\n",
      "|    1463|            Ref, The|1994.0|\n",
      "|    1661|Home for the Holi...|1995.0|\n",
      "|    2202|            Fog, The|1980.0|\n",
      "|    2417|      Bodyguard, The|1992.0|\n",
      "|    2434|Postcards From th...|1990.0|\n",
      "|    2576|Love and Death on...|1997.0|\n",
      "|    2583|Things to Do in D...|1995.0|\n",
      "|    2625|     American Hustle|2013.0|\n",
      "|    2774|Skin I Live In, T...|2011.0|\n",
      "|    3071|Andromeda Strain,...|1971.0|\n",
      "|    3109|    My Friend Flicka|1943.0|\n",
      "|    3185|      My Man Godfrey|1957.0|\n",
      "|    3913|              Capote|2005.0|\n",
      "|    4157|               Buddy|1997.0|\n",
      "|    4270|             Country|1984.0|\n",
      "+--------+--------------------+------+\n",
      "only showing top 20 rows\n",
      "\n"
     ]
    }
   ],
   "source": [
    "all_movies.show()"
   ]
  },
  {
   "cell_type": "markdown",
   "metadata": {},
   "source": [
    "## Fine-tune the model"
   ]
  },
  {
   "cell_type": "code",
   "execution_count": null,
   "metadata": {},
   "outputs": [
    {
     "name": "stdout",
     "output_type": "stream",
     "text": [
      "Best model Root-mean-square error = 0.8178553423767568\n"
     ]
    }
   ],
   "source": [
    "paramGrid = ParamGridBuilder() \\\n",
    "    .addGrid(als.rank, [10, 50, 100]) \\\n",
    "    .addGrid(als.regParam, [0.01, 0.1, 1.0]) \\\n",
    "    .build()\n",
    "\n",
    "crossval = CrossValidator(\n",
    "    estimator=als,\n",
    "    estimatorParamMaps=paramGrid,\n",
    "    evaluator=evaluator,\n",
    "    numFolds=3\n",
    ")\n",
    "\n",
    "cvModel = crossval.fit(training)\n",
    "\n",
    "bestModel = cvModel.bestModel\n",
    "predictions = bestModel.transform(test)\n",
    "rmse = evaluator.evaluate(predictions)\n",
    "print(f\"Best model Root-mean-square error = {rmse}\")"
   ]
  }
 ],
 "metadata": {
  "kernelspec": {
   "display_name": "rcm",
   "language": "python",
   "name": "python3"
  },
  "language_info": {
   "codemirror_mode": {
    "name": "ipython",
    "version": 3
   },
   "file_extension": ".py",
   "mimetype": "text/x-python",
   "name": "python",
   "nbconvert_exporter": "python",
   "pygments_lexer": "ipython3",
   "version": "3.11.10"
  }
 },
 "nbformat": 4,
 "nbformat_minor": 2
}
